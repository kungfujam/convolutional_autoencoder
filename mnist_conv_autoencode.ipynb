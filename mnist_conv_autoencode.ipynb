{
 "cells": [
  {
   "cell_type": "code",
   "execution_count": 1,
   "metadata": {
    "collapsed": false
   },
   "outputs": [],
   "source": [
    "import os, sys, urllib, gzip\n",
    "from __future__ import print_function\n",
    "try:\n",
    "    import cPickle as pickle\n",
    "except:\n",
    "    import pickle\n",
    "sys.setrecursionlimit(10000)"
   ]
  },
  {
   "cell_type": "code",
   "execution_count": 46,
   "metadata": {
    "collapsed": false
   },
   "outputs": [],
   "source": [
    "import matplotlib\n",
    "matplotlib.use('Agg') # Change matplotlib backend, in case we have no X server running..\n",
    "import matplotlib.pyplot as plt\n",
    "%matplotlib inline\n",
    "import numpy as np\n",
    "from IPython.display import display as IPdisplay, Image as IPImage\n",
    "from PIL import Image"
   ]
  },
  {
   "cell_type": "code",
   "execution_count": 3,
   "metadata": {
    "collapsed": false
   },
   "outputs": [
    {
     "name": "stderr",
     "output_type": "stream",
     "text": [
      "/home/james/anaconda2/envs/nolearn/lib/python2.7/site-packages/theano/tensor/signal/downsample.py:6: UserWarning: downsample module has been moved to the theano.tensor.signal.pool module.\n",
      "  \"downsample module has been moved to the theano.tensor.signal.pool module.\")\n"
     ]
    }
   ],
   "source": [
    "from lasagne.layers import get_output, InputLayer, DenseLayer, Upscale2DLayer, ReshapeLayer\n",
    "from lasagne.nonlinearities import rectify, leaky_rectify, tanh\n",
    "from lasagne.updates import nesterov_momentum\n",
    "from lasagne.objectives import categorical_crossentropy\n",
    "from nolearn.lasagne import NeuralNet, BatchIterator, PrintLayerInfo"
   ]
  },
  {
   "cell_type": "code",
   "execution_count": 4,
   "metadata": {
    "collapsed": false
   },
   "outputs": [
    {
     "name": "stdout",
     "output_type": "stream",
     "text": [
      "Using lasagne.layers (slower)\n"
     ]
    }
   ],
   "source": [
    "from lasagne.layers import Conv2DLayer as Conv2DLayerSlow\n",
    "from lasagne.layers import MaxPool2DLayer as MaxPool2DLayerSlow\n",
    "try:\n",
    "    from lasagne.layers.cuda_convnet import Conv2DCCLayer as Conv2DLayerFast\n",
    "    from lasagne.layers.cuda_convnet import MaxPool2DCCLayer as MaxPool2DLayerFast\n",
    "    print('Using cuda_convnet (faster)')\n",
    "except ImportError:\n",
    "    from lasagne.layers import Conv2DLayer as Conv2DLayerFast\n",
    "    from lasagne.layers import MaxPool2DLayer as MaxPool2DLayerFast\n",
    "    print('Using lasagne.layers (slower)')"
   ]
  },
  {
   "cell_type": "code",
   "execution_count": 5,
   "metadata": {
    "collapsed": false
   },
   "outputs": [],
   "source": [
    "fname = 'mnist/mnist.pkl.gz'\n",
    "if not os.path.isfile(fname):\n",
    "    try:\n",
    "        testfile = urllib.request.URLopener()\n",
    "    except:\n",
    "        testfile = urllib.URLopener()\n",
    "    testfile.retrieve(\"http://deeplearning.net/data/mnist/mnist.pkl.gz\", fname)\n",
    "f = gzip.open(fname, 'rb')\n",
    "try:\n",
    "    train_set, valid_set, test_set = pickle.load(f, encoding='latin1')\n",
    "except:\n",
    "    train_set, valid_set, test_set = pickle.load(f)\n",
    "f.close()\n",
    "X, y = train_set"
   ]
  },
  {
   "cell_type": "code",
   "execution_count": 6,
   "metadata": {
    "collapsed": false
   },
   "outputs": [
    {
     "name": "stdout",
     "output_type": "stream",
     "text": [
      "X type and shape: float32 (50000, 1, 28, 28)\n",
      "X.min(): 0.0\n",
      "X.max(): 0.996094\n"
     ]
    }
   ],
   "source": [
    "# reshape from (50000, 784) to 4D tensor (50000, 1, 28, 28)\n",
    "X = np.reshape(X, (-1, 1, 28, 28))\n",
    "print('X type and shape:', X.dtype, X.shape)\n",
    "print('X.min():', X.min())\n",
    "print('X.max():', X.max())"
   ]
  },
  {
   "cell_type": "code",
   "execution_count": 7,
   "metadata": {
    "collapsed": false
   },
   "outputs": [
    {
     "name": "stdout",
     "output_type": "stream",
     "text": [
      "X_out: float32 (50000, 784)\n"
     ]
    }
   ],
   "source": [
    "# we need our target to be 1 dimensional\n",
    "X_out = X.reshape((X.shape[0], -1))\n",
    "print('X_out:', X_out.dtype, X_out.shape)"
   ]
  },
  {
   "cell_type": "code",
   "execution_count": 8,
   "metadata": {
    "collapsed": false
   },
   "outputs": [],
   "source": [
    "conv_num_filters = 16\n",
    "filter_size = 3\n",
    "pool_size = 2\n",
    "encode_size = 16\n",
    "dense_mid_size = 128\n",
    "pad_in = 'valid'\n",
    "pad_out = 'full'\n",
    "layers = [\n",
    "    (InputLayer, {'shape': (None, X.shape[1], X.shape[2], X.shape[3])}), \n",
    "    (Conv2DLayerFast, {'num_filters': conv_num_filters, 'filter_size': filter_size, 'pad': pad_in}),\n",
    "    (Conv2DLayerFast, {'num_filters': conv_num_filters, 'filter_size': filter_size, 'pad': pad_in}),\n",
    "    (MaxPool2DLayerFast, {'pool_size': pool_size}),\n",
    "    (Conv2DLayerFast, {'num_filters': 2*conv_num_filters, 'filter_size': filter_size, 'pad': pad_in}),\n",
    "    (MaxPool2DLayerFast, {'pool_size': pool_size}),\n",
    "    (ReshapeLayer, {'shape': (([0], -1))}),\n",
    "    (DenseLayer, {'num_units': dense_mid_size}),\n",
    "    (DenseLayer, {'name': 'encode', 'num_units': encode_size}),\n",
    "    (DenseLayer, {'num_units': dense_mid_size}),\n",
    "    (DenseLayer, {'num_units': 800}),\n",
    "    (ReshapeLayer, {'shape': (([0], 2*conv_num_filters, 5, 5))}),\n",
    "    (Upscale2DLayer, {'scale_factor': pool_size}),\n",
    "    (Conv2DLayerFast, {'num_filters': conv_num_filters, 'filter_size': filter_size, 'pad': pad_out}),\n",
    "    (Upscale2DLayer, {'scale_factor': pool_size}),\n",
    "    (Conv2DLayerSlow, {'num_filters': conv_num_filters, 'filter_size': filter_size, 'pad': pad_out}),\n",
    "    (Conv2DLayerSlow, {'num_filters': 1, 'filter_size': filter_size, 'pad': pad_out}),\n",
    "    (ReshapeLayer, {'shape': (([0], -1))}),\n",
    "]"
   ]
  },
  {
   "cell_type": "code",
   "execution_count": 9,
   "metadata": {
    "collapsed": false
   },
   "outputs": [],
   "source": [
    "ae = NeuralNet(\n",
    "    layers=layers,\n",
    "    max_epochs=25,\n",
    "    \n",
    "    update=nesterov_momentum,\n",
    "    update_learning_rate=0.01,\n",
    "    update_momentum=0.975,\n",
    "    \n",
    "    regression=True,\n",
    "    verbose=1\n",
    ")\n",
    "# ae.initialize()\n",
    "# PrintLayerInfo()(ae)"
   ]
  },
  {
   "cell_type": "code",
   "execution_count": 10,
   "metadata": {
    "collapsed": false
   },
   "outputs": [
    {
     "name": "stdout",
     "output_type": "stream",
     "text": [
      "# Neural Network with 224177 learnable parameters\n",
      "\n",
      "## Layer information\n",
      "\n",
      "  #  name         size\n",
      "---  -----------  --------\n",
      "  0  input0       1x28x28\n",
      "  1  conv2d1      16x26x26\n",
      "  2  conv2d2      16x24x24\n",
      "  3  maxpool2d3   16x12x12\n",
      "  4  conv2d4      32x10x10\n",
      "  5  maxpool2d5   32x5x5\n",
      "  6  reshape6     800\n",
      "  7  dense7       128\n",
      "  8  encode       16\n",
      "  9  dense9       128\n",
      " 10  dense10      800\n",
      " 11  reshape11    32x5x5\n",
      " 12  upscale2d12  32x10x10\n",
      " 13  conv2d13     16x12x12\n",
      " 14  upscale2d14  16x24x24\n",
      " 15  conv2d15     16x26x26\n",
      " 16  conv2d16     1x28x28\n",
      " 17  reshape17    784\n",
      "\n",
      "  epoch    train loss    valid loss    train/val  dur\n",
      "-------  ------------  ------------  -----------  -------\n",
      "      1       \u001b[36m0.06714\u001b[0m       \u001b[32m0.05103\u001b[0m      1.31560  207.36s\n",
      "      2       \u001b[36m0.04241\u001b[0m       \u001b[32m0.03554\u001b[0m      1.19347  208.26s\n",
      "      3       \u001b[36m0.03248\u001b[0m       \u001b[32m0.02972\u001b[0m      1.09317  256.08s\n",
      "      4       \u001b[36m0.02875\u001b[0m       \u001b[32m0.02722\u001b[0m      1.05599  291.00s\n",
      "      5       \u001b[36m0.02667\u001b[0m       \u001b[32m0.02547\u001b[0m      1.04699  281.32s\n",
      "      6       \u001b[36m0.02514\u001b[0m       \u001b[32m0.02420\u001b[0m      1.03909  285.29s\n",
      "      7       \u001b[36m0.02399\u001b[0m       \u001b[32m0.02320\u001b[0m      1.03411  281.97s\n",
      "      8       \u001b[36m0.02307\u001b[0m       \u001b[32m0.02237\u001b[0m      1.03117  258.76s\n",
      "      9       \u001b[36m0.02226\u001b[0m       \u001b[32m0.02155\u001b[0m      1.03299  211.76s\n",
      "     10       \u001b[36m0.02136\u001b[0m       \u001b[32m0.02074\u001b[0m      1.03006  211.75s\n",
      "     11       \u001b[36m0.02069\u001b[0m       \u001b[32m0.02017\u001b[0m      1.02588  215.82s\n",
      "     12       \u001b[36m0.02016\u001b[0m       \u001b[32m0.01970\u001b[0m      1.02371  214.27s\n",
      "     13       \u001b[36m0.01972\u001b[0m       \u001b[32m0.01928\u001b[0m      1.02231  232.20s\n",
      "     14       \u001b[36m0.01932\u001b[0m       \u001b[32m0.01892\u001b[0m      1.02128  232.79s\n",
      "     15       \u001b[36m0.01897\u001b[0m       \u001b[32m0.01859\u001b[0m      1.02004  216.59s\n",
      "     16       \u001b[36m0.01865\u001b[0m       \u001b[32m0.01830\u001b[0m      1.01881  216.95s\n",
      "     17       \u001b[36m0.01836\u001b[0m       \u001b[32m0.01804\u001b[0m      1.01733  231.37s\n",
      "     18       \u001b[36m0.01809\u001b[0m       \u001b[32m0.01779\u001b[0m      1.01671  226.82s\n",
      "     19       \u001b[36m0.01784\u001b[0m       \u001b[32m0.01757\u001b[0m      1.01562  223.27s\n",
      "     20       \u001b[36m0.01762\u001b[0m       \u001b[32m0.01738\u001b[0m      1.01385  222.02s\n",
      "     21       \u001b[36m0.01741\u001b[0m       \u001b[32m0.01718\u001b[0m      1.01313  220.99s\n",
      "     22       \u001b[36m0.01721\u001b[0m       \u001b[32m0.01699\u001b[0m      1.01271  224.37s\n",
      "     23       \u001b[36m0.01702\u001b[0m       \u001b[32m0.01682\u001b[0m      1.01177  221.26s\n",
      "     24       \u001b[36m0.01684\u001b[0m       \u001b[32m0.01665\u001b[0m      1.01176  221.36s\n",
      "     25       \u001b[36m0.01668\u001b[0m       \u001b[32m0.01649\u001b[0m      1.01103  220.82s\n"
     ]
    },
    {
     "data": {
      "text/plain": [
       "NeuralNet(X_tensor_type=None,\n",
       "     batch_iterator_test=<nolearn.lasagne.base.BatchIterator object at 0x7fbd40250210>,\n",
       "     batch_iterator_train=<nolearn.lasagne.base.BatchIterator object at 0x7fbd40250110>,\n",
       "     check_input=True, custom_scores=None,\n",
       "     layers=[(<class 'lasagne.layers.input.InputLayer'>, {'shape': (None, 1, 28, 28)}), (<class 'lasagne.layers.conv.Conv2DLayer'>, {'filter_size': 3, 'pad': 'valid', 'num_filters': 16}), (<class 'lasagne.layers.conv.Conv2DLayer'>, {'filter_size': 3, 'pad': 'valid', 'num_filters': 16}), (<class 'lasagne....d': 'full', 'num_filters': 1}), (<class 'lasagne.layers.shape.ReshapeLayer'>, {'shape': ([0], -1)})],\n",
       "     loss=None, max_epochs=25, more_params={},\n",
       "     objective=<function objective at 0x7fbd40252f50>,\n",
       "     objective_loss_function=<function squared_error at 0x7fbd41484b90>,\n",
       "     on_batch_finished=[],\n",
       "     on_epoch_finished=[<nolearn.lasagne.handlers.PrintLog instance at 0x7fbd4020b560>],\n",
       "     on_training_finished=[],\n",
       "     on_training_started=[<nolearn.lasagne.handlers.PrintLayerInfo instance at 0x7fbd4020b638>],\n",
       "     regression=True,\n",
       "     train_split=<nolearn.lasagne.base.TrainSplit object at 0x7fbd40250250>,\n",
       "     update=<function nesterov_momentum at 0x7fbd4148e488>,\n",
       "     update_learning_rate=0.01, update_momentum=0.975,\n",
       "     use_label_encoder=False, verbose=1,\n",
       "     y_tensor_type=TensorType(float64, matrix))"
      ]
     },
     "execution_count": 10,
     "metadata": {},
     "output_type": "execute_result"
    }
   ],
   "source": [
    "ae.fit(X, X_out)"
   ]
  },
  {
   "cell_type": "code",
   "execution_count": 11,
   "metadata": {
    "collapsed": false
   },
   "outputs": [
    {
     "data": {
      "text/plain": [
       "<module 'matplotlib.pyplot' from '/home/james/anaconda2/envs/nolearn/lib/python2.7/site-packages/matplotlib/pyplot.pyc'>"
      ]
     },
     "execution_count": 11,
     "metadata": {},
     "output_type": "execute_result"
    },
    {
     "data": {
      "image/png": "[encoded data removed]",
      "text/plain": [
       "<matplotlib.figure.Figure at 0x7fbd2762dbd0>"
      ]
     },
     "metadata": {},
     "output_type": "display_data"
    }
   ],
   "source": [
    "from nolearn.lasagne.visualize import plot_loss\n",
    "plot_loss(ae)"
   ]
  },
  {
   "cell_type": "code",
   "execution_count": 12,
   "metadata": {
    "collapsed": false
   },
   "outputs": [],
   "source": [
    "# ae.save_params_to('mnist/conv_ae.np')\n",
    "pickle.dump(ae, open('mnist/conv_ae.pkl','wb'))\n",
    "# ae = pickle.load(open('mnist/conv_ae.pkl','rb'))\n",
    "# ae.layers"
   ]
  },
  {
   "cell_type": "code",
   "execution_count": 13,
   "metadata": {
    "collapsed": false
   },
   "outputs": [
    {
     "name": "stdout",
     "output_type": "stream",
     "text": [
      "(50000, 28, 28) (50000, 1, 28, 28)\n"
     ]
    }
   ],
   "source": [
    "X_pred = ae.predict(X).reshape(-1, 28, 28)\n",
    "X_pred = np.rint(256. * X_pred).astype(int)\n",
    "X_pred = np.clip(X_pred, a_min = 0, a_max = 255)\n",
    "X_pred = X_pred.astype('uint8')\n",
    "print(X_pred.shape , X.shape)"
   ]
  },
  {
   "cell_type": "code",
   "execution_count": 14,
   "metadata": {
    "collapsed": false
   },
   "outputs": [],
   "source": [
    "!mkdir -p data\n",
    "!mkdir -p montage"
   ]
  },
  {
   "cell_type": "code",
   "execution_count": 139,
   "metadata": {
    "collapsed": false
   },
   "outputs": [
    {
     "name": "stdout",
     "output_type": "stream",
     "text": [
      "8\n"
     ]
    },
    {
     "data": {
      "image/png": "[encoded data removed]",
      "text/plain": [
       "<IPython.core.display.Image object>"
      ]
     },
     "metadata": {},
     "output_type": "display_data"
    },
    {
     "name": "stdout",
     "output_type": "stream",
     "text": [
      "33580\n"
     ]
    },
    {
     "data": {
      "image/png": "[encoded data removed]",
      "text/plain": [
       "<IPython.core.display.Image object>"
      ]
     },
     "metadata": {},
     "output_type": "display_data"
    },
    {
     "name": "stdout",
     "output_type": "stream",
     "text": [
      "18493\n"
     ]
    },
    {
     "data": {
      "image/png": "[encoded data removed]",
      "text/plain": [
       "<IPython.core.display.Image object>"
      ]
     },
     "metadata": {},
     "output_type": "display_data"
    },
    {
     "name": "stdout",
     "output_type": "stream",
     "text": [
      "15521\n"
     ]
    },
    {
     "data": {
      "image/png": "[encoded data removed]",
      "text/plain": [
       "<IPython.core.display.Image object>"
      ]
     },
     "metadata": {},
     "output_type": "display_data"
    },
    {
     "name": "stdout",
     "output_type": "stream",
     "text": [
      "43657\n"
     ]
    },
    {
     "data": {
      "image/png": "[encoded data removed]",
      "text/plain": [
       "<IPython.core.display.Image object>"
      ]
     },
     "metadata": {},
     "output_type": "display_data"
    },
    {
     "name": "stdout",
     "output_type": "stream",
     "text": [
      "39304\n"
     ]
    },
    {
     "data": {
      "image/png": "[encoded data removed]",
      "text/plain": [
       "<IPython.core.display.Image object>"
      ]
     },
     "metadata": {},
     "output_type": "display_data"
    },
    {
     "name": "stdout",
     "output_type": "stream",
     "text": [
      "4003\n"
     ]
    },
    {
     "data": {
      "image/png": "[encoded data removed]",
      "text/plain": [
       "<IPython.core.display.Image object>"
      ]
     },
     "metadata": {},
     "output_type": "display_data"
    }
   ],
   "source": [
    "###  show random inputs / outputs side by side\n",
    "\n",
    "def get_picture_array(X, rescale=4):\n",
    "    array = X.reshape(28,28)\n",
    "    array = np.clip(array, a_min = 0, a_max = 255)\n",
    "    return  array.repeat(rescale, axis = 0).repeat(rescale, axis = 1).astype(np.uint8())\n",
    "\n",
    "def compare_images(index):\n",
    "    print(index)\n",
    "    original_image = Image.fromarray(get_picture_array(255 * X[index]))\n",
    "    new_size = (original_image.size[0] * 2, original_image.size[1])\n",
    "    new_im = Image.new('L', new_size)\n",
    "    new_im.paste(original_image, (0,0))\n",
    "    rec_image = Image.fromarray(get_picture_array(X_pred[index]))\n",
    "    new_im.paste(rec_image, (original_image.size[0],0))\n",
    "    new_im.save('data/test%d.png'%index, format=\"PNG\")\n",
    "    return IPdisplay(IPImage('data/test%d.png'%index))\n",
    "\n",
    "# Ones\n",
    "for i in [8,33580,18493]:\n",
    "    compare_images(i)\n",
    "\n",
    "# Fours\n",
    "for i in [15521,43657,39304]:\n",
    "    compare_images(i)\n",
    "\n",
    "compare_images(np.random.randint(50000))"
   ]
  },
  {
   "cell_type": "code",
   "execution_count": 16,
   "metadata": {
    "collapsed": false
   },
   "outputs": [],
   "source": [
    "## we find the encode layer from our ae, and use it to define an encoding function\n",
    "\n",
    "def get_layer_by_name(net, name):\n",
    "    for i, layer in enumerate(net.get_all_layers()):\n",
    "        if layer.name == name:\n",
    "            return layer, i\n",
    "    return None, None\n",
    "encode_layer, encode_layer_index = get_layer_by_name(ae, 'encode')\n",
    "\n",
    "def encode_input(encode_layer, X):\n",
    "    return get_output(encode_layer, inputs=X).eval()\n",
    "\n",
    "X_encoded = encode_input(encode_layer, X.astype('float64'))\n"
   ]
  },
  {
   "cell_type": "code",
   "execution_count": 17,
   "metadata": {
    "collapsed": false
   },
   "outputs": [],
   "source": [
    "next_layer = ae.get_all_layers()[encode_layer_index + 1]\n",
    "final_layer = ae.get_all_layers()[-1]\n",
    "new_layer = InputLayer(shape=(None, encode_layer.num_units))\n",
    "\n",
    "# N.B after we do this, we won't be able to use the original autoencoder , as the layers are broken up\n",
    "next_layer.input_layer = new_layer"
   ]
  },
  {
   "cell_type": "code",
   "execution_count": 18,
   "metadata": {
    "collapsed": false
   },
   "outputs": [
    {
     "name": "stdout",
     "output_type": "stream",
     "text": [
      "(1, 784)\n"
     ]
    },
    {
     "data": {
      "image/png": "[encoded data removed]",
      "text/plain": [
       "<IPython.core.display.Image object>"
      ]
     },
     "execution_count": 18,
     "metadata": {},
     "output_type": "execute_result"
    }
   ],
   "source": [
    "def get_output_from_nn(last_layer, X):\n",
    "    return get_output(last_layer,X).eval()\n",
    "\n",
    "def decode_encoded_input(X):\n",
    "    return get_output_from_nn(final_layer, X)\n",
    "\n",
    "X_decoded = 256 * decode_encoded_input(X_encoded[2])\n",
    "\n",
    "X_decoded = np.rint(X_decoded).astype(int)\n",
    "X_decoded = np.clip(X_decoded, a_min = 0, a_max = 255)\n",
    "X_decoded  = X_decoded.astype('uint8')\n",
    "print(X_decoded.shape)\n",
    "\n",
    "pic_array = get_picture_array(X_decoded)\n",
    "image = Image.fromarray(pic_array)\n",
    "image.save('data/test.png', format=\"PNG\")  \n",
    "IPImage('data/test.png')"
   ]
  },
  {
   "cell_type": "code",
   "execution_count": 19,
   "metadata": {
    "collapsed": false
   },
   "outputs": [],
   "source": [
    "enc_std = X_encoded.std(axis=0)\n",
    "enc_mean = X_encoded.mean(axis=0)\n",
    "enc_min = X_encoded.min(axis=0)\n",
    "enc_max = X_encoded.max(axis=0)\n",
    "m = X_encoded.shape[1]"
   ]
  },
  {
   "cell_type": "code",
   "execution_count": 20,
   "metadata": {
    "collapsed": false
   },
   "outputs": [],
   "source": [
    "n = 256\n",
    "generated = np.random.normal(0, 1, (n, m)) * enc_std + enc_mean\n",
    "generated = generated.astype(np.float32).clip(enc_min, enc_max)\n",
    "X_decoded = decode_encoded_input(generated) * 256.\n",
    "X_decoded = np.rint(X_decoded ).astype(int)\n",
    "X_decoded = np.clip(X_decoded, a_min = 0, a_max = 255)\n",
    "X_decoded  = X_decoded.astype('uint8')\n",
    "!mkdir -p montage\n",
    "for i in range(n):\n",
    "    pic_array = get_picture_array(X_decoded[i], rescale=1)\n",
    "    image = Image.fromarray(pic_array)\n",
    "    image.save('montage/{0:03d}.png'.format(i), format='png')"
   ]
  },
  {
   "cell_type": "code",
   "execution_count": 21,
   "metadata": {
    "collapsed": false
   },
   "outputs": [
    {
     "data": {
      "image/png": "[encoded data removed]",
      "text/plain": [
       "<IPython.core.display.Image object>"
      ]
     },
     "execution_count": 21,
     "metadata": {},
     "output_type": "execute_result"
    }
   ],
   "source": [
    "!montage -mode concatenate -tile 16x montage/*.png montage.png\n",
    "IPImage('montage.png')"
   ]
  },
  {
   "cell_type": "code",
   "execution_count": null,
   "metadata": {
    "collapsed": true
   },
   "outputs": [],
   "source": []
  }
 ],
 "metadata": {
  "kernelspec": {
   "display_name": "Python 2",
   "language": "python",
   "name": "python2"
  },
  "language_info": {
   "codemirror_mode": {
    "name": "ipython",
    "version": 2
   },
   "file_extension": ".py",
   "mimetype": "text/x-python",
   "name": "python",
   "nbconvert_exporter": "python",
   "pygments_lexer": "ipython2",
   "version": "2.7.11"
  }
 },
 "nbformat": 4,
 "nbformat_minor": 0
}
